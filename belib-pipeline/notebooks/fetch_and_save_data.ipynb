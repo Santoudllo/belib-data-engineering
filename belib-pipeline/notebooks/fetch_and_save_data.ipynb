{
 "cells": [
  {
   "cell_type": "code",
   "execution_count": 1,
   "metadata": {},
   "outputs": [
    {
     "ename": "ModuleNotFoundError",
     "evalue": "No module named 'pandas'",
     "output_type": "error",
     "traceback": [
      "\u001b[0;31m---------------------------------------------------------------------------\u001b[0m",
      "\u001b[0;31mModuleNotFoundError\u001b[0m                       Traceback (most recent call last)",
      "Cell \u001b[0;32mIn[1], line 2\u001b[0m\n\u001b[1;32m      1\u001b[0m \u001b[38;5;28;01mimport\u001b[39;00m \u001b[38;5;21;01msys\u001b[39;00m\n\u001b[0;32m----> 2\u001b[0m \u001b[38;5;28;01mimport\u001b[39;00m \u001b[38;5;21;01mpandas\u001b[39;00m \u001b[38;5;28;01mas\u001b[39;00m \u001b[38;5;21;01mpd\u001b[39;00m\n\u001b[1;32m      4\u001b[0m \u001b[38;5;66;03m# Ajoutez le dossier contenant bike_data_pipeline.py au chemin de recherche de Python\u001b[39;00m\n\u001b[1;32m      5\u001b[0m sys\u001b[38;5;241m.\u001b[39mpath\u001b[38;5;241m.\u001b[39mappend(\u001b[38;5;124m'\u001b[39m\u001b[38;5;124m../script\u001b[39m\u001b[38;5;124m'\u001b[39m)\n",
      "\u001b[0;31mModuleNotFoundError\u001b[0m: No module named 'pandas'"
     ]
    }
   ],
   "source": [
    "import sys\n",
    "import pandas as pd\n",
    "\n",
    "# Ajoutez le dossier contenant bike_data_pipeline.py au chemin de recherche de Python\n",
    "sys.path.append('../script')\n",
    "from bike_data_pipeline import BikeDataPipeline"
   ]
  },
  {
   "cell_type": "code",
   "execution_count": 2,
   "metadata": {},
   "outputs": [
    {
     "ename": "NameError",
     "evalue": "name 'data' is not defined",
     "output_type": "error",
     "traceback": [
      "\u001b[0;31m---------------------------------------------------------------------------\u001b[0m",
      "\u001b[0;31mNameError\u001b[0m                                 Traceback (most recent call last)",
      "Cell \u001b[0;32mIn[2], line 1\u001b[0m\n\u001b[0;32m----> 1\u001b[0m \u001b[38;5;28;01mif\u001b[39;00m \u001b[43mdata\u001b[49m:\n\u001b[1;32m      2\u001b[0m     \u001b[38;5;28mprint\u001b[39m(\u001b[38;5;124m\"\u001b[39m\u001b[38;5;124mDonnées récupérées depuis MongoDB :\u001b[39m\u001b[38;5;124m\"\u001b[39m)\n\u001b[1;32m      4\u001b[0m     \u001b[38;5;66;03m# Affichez les données avec pandas\u001b[39;00m\n",
      "\u001b[0;31mNameError\u001b[0m: name 'data' is not defined"
     ]
    }
   ],
   "source": [
    "if data:\n",
    "    print(\"Données récupérées depuis MongoDB :\")\n",
    "    \n",
    "    # Affichez les données avec pandas\n",
    "    df = pd.DataFrame(data)\n",
    "    print(df.head())\n",
    "\n",
    "    # Enregistrez les données en CSV dans un dossier spécifié\n",
    "    csv_filepath = '../data/01_raw/belib_data.csv'\n",
    "    df.to_csv(csv_filepath, index=False)\n",
    "    print(f\"Les données ont été enregistrées au format CSV dans '{csv_filepath}'.\")\n",
    "else:\n",
    "    print(\"Aucune donnée récupérée.\")"
   ]
  },
  {
   "cell_type": "code",
   "execution_count": 17,
   "metadata": {},
   "outputs": [
    {
     "data": {
      "text/html": [
       "<pre style=\"white-space:pre;overflow-x:auto;line-height:normal;font-family:Menlo,'DejaVu Sans Mono',consolas,'Courier New',monospace\">╭──────────────────────────────────────────────── skimpy summary ─────────────────────────────────────────────────╮\n",
       "│ <span style=\"font-style: italic\">         Data Summary         </span> <span style=\"font-style: italic\">      Data Types       </span>                                                          │\n",
       "│ ┏━━━━━━━━━━━━━━━━━━━┳━━━━━━━━┓ ┏━━━━━━━━━━━━━┳━━━━━━━┓                                                          │\n",
       "│ ┃<span style=\"color: #008080; text-decoration-color: #008080; font-weight: bold\"> dataframe         </span>┃<span style=\"color: #008080; text-decoration-color: #008080; font-weight: bold\"> Values </span>┃ ┃<span style=\"color: #008080; text-decoration-color: #008080; font-weight: bold\"> Column Type </span>┃<span style=\"color: #008080; text-decoration-color: #008080; font-weight: bold\"> Count </span>┃                                                          │\n",
       "│ ┡━━━━━━━━━━━━━━━━━━━╇━━━━━━━━┩ ┡━━━━━━━━━━━━━╇━━━━━━━┩                                                          │\n",
       "│ │ Number of rows    │ 2129   │ │ string      │ 43    │                                                          │\n",
       "│ │ Number of columns │ 43     │ └─────────────┴───────┘                                                          │\n",
       "│ └───────────────────┴────────┘                                                                                  │\n",
       "│ <span style=\"font-style: italic\">                                                    string                                                    </span>  │\n",
       "│ ┏━━━━━━━━━━━━━━━━━━━━━━━━━━━━━━━━━━━━━┳━━━━━━━━━━┳━━━━━━━━━━━━┳━━━━━━━━━━━━━━━━━━━━━━━━━┳━━━━━━━━━━━━━━━━━━━━┓  │\n",
       "│ ┃<span style=\"font-weight: bold\"> column_name                         </span>┃<span style=\"font-weight: bold\"> NA       </span>┃<span style=\"font-weight: bold\"> NA %       </span>┃<span style=\"font-weight: bold\"> words per row           </span>┃<span style=\"font-weight: bold\"> total words        </span>┃  │\n",
       "│ ┡━━━━━━━━━━━━━━━━━━━━━━━━━━━━━━━━━━━━━╇━━━━━━━━━━╇━━━━━━━━━━━━╇━━━━━━━━━━━━━━━━━━━━━━━━━╇━━━━━━━━━━━━━━━━━━━━┩  │\n",
       "│ │ <span style=\"color: #af87ff; text-decoration-color: #af87ff\">id_pdc                             </span> │ <span style=\"color: #008080; text-decoration-color: #008080\">    1909</span> │ <span style=\"color: #008080; text-decoration-color: #008080\">     89.67</span> │ <span style=\"color: #008080; text-decoration-color: #008080\">                    0.1</span> │ <span style=\"color: #008080; text-decoration-color: #008080\">               220</span> │  │\n",
       "│ │ <span style=\"color: #af87ff; text-decoration-color: #af87ff\">statut_pdc                         </span> │ <span style=\"color: #008080; text-decoration-color: #008080\">       0</span> │ <span style=\"color: #008080; text-decoration-color: #008080\">         0</span> │ <span style=\"color: #008080; text-decoration-color: #008080\">                    1.9</span> │ <span style=\"color: #008080; text-decoration-color: #008080\">              4038</span> │  │\n",
       "│ │ <span style=\"color: #af87ff; text-decoration-color: #af87ff\">url_description_pdc                </span> │ <span style=\"color: #008080; text-decoration-color: #008080\">    1909</span> │ <span style=\"color: #008080; text-decoration-color: #008080\">     89.67</span> │ <span style=\"color: #008080; text-decoration-color: #008080\">                    0.1</span> │ <span style=\"color: #008080; text-decoration-color: #008080\">               220</span> │  │\n",
       "│ │ <span style=\"color: #af87ff; text-decoration-color: #af87ff\">last_updated                       </span> │ <span style=\"color: #008080; text-decoration-color: #008080\">    1909</span> │ <span style=\"color: #008080; text-decoration-color: #008080\">     89.67</span> │ <span style=\"color: #008080; text-decoration-color: #008080\">                    0.1</span> │ <span style=\"color: #008080; text-decoration-color: #008080\">               220</span> │  │\n",
       "│ │ <span style=\"color: #af87ff; text-decoration-color: #af87ff\">adresse_station                    </span> │ <span style=\"color: #008080; text-decoration-color: #008080\">       0</span> │ <span style=\"color: #008080; text-decoration-color: #008080\">         0</span> │ <span style=\"color: #008080; text-decoration-color: #008080\">                    5.8</span> │ <span style=\"color: #008080; text-decoration-color: #008080\">             12318</span> │  │\n",
       "│ │ <span style=\"color: #af87ff; text-decoration-color: #af87ff\">code_insee_commune                 </span> │ <span style=\"color: #008080; text-decoration-color: #008080\">      15</span> │ <span style=\"color: #008080; text-decoration-color: #008080\">       0.7</span> │ <span style=\"color: #008080; text-decoration-color: #008080\">                   0.99</span> │ <span style=\"color: #008080; text-decoration-color: #008080\">              2114</span> │  │\n",
       "│ │ <span style=\"color: #af87ff; text-decoration-color: #af87ff\">arrondissement                     </span> │ <span style=\"color: #008080; text-decoration-color: #008080\">       0</span> │ <span style=\"color: #008080; text-decoration-color: #008080\">         0</span> │ <span style=\"color: #008080; text-decoration-color: #008080\">                      2</span> │ <span style=\"color: #008080; text-decoration-color: #008080\">              4258</span> │  │\n",
       "│ │ <span style=\"color: #af87ff; text-decoration-color: #af87ff\">id_pdc_local                       </span> │ <span style=\"color: #008080; text-decoration-color: #008080\">     220</span> │ <span style=\"color: #008080; text-decoration-color: #008080\">     10.33</span> │ <span style=\"color: #008080; text-decoration-color: #008080\">                    0.9</span> │ <span style=\"color: #008080; text-decoration-color: #008080\">              1909</span> │  │\n",
       "│ │ <span style=\"color: #af87ff; text-decoration-color: #af87ff\">id_station_local                   </span> │ <span style=\"color: #008080; text-decoration-color: #008080\">     220</span> │ <span style=\"color: #008080; text-decoration-color: #008080\">     10.33</span> │ <span style=\"color: #008080; text-decoration-color: #008080\">                    0.9</span> │ <span style=\"color: #008080; text-decoration-color: #008080\">              1909</span> │  │\n",
       "│ │ <span style=\"color: #af87ff; text-decoration-color: #af87ff\">id_station_itinerance              </span> │ <span style=\"color: #008080; text-decoration-color: #008080\">     220</span> │ <span style=\"color: #008080; text-decoration-color: #008080\">     10.33</span> │ <span style=\"color: #008080; text-decoration-color: #008080\">                    0.9</span> │ <span style=\"color: #008080; text-decoration-color: #008080\">              1909</span> │  │\n",
       "│ │ <span style=\"color: #af87ff; text-decoration-color: #af87ff\">nom_station                        </span> │ <span style=\"color: #008080; text-decoration-color: #008080\">     220</span> │ <span style=\"color: #008080; text-decoration-color: #008080\">     10.33</span> │ <span style=\"color: #008080; text-decoration-color: #008080\">                    5.3</span> │ <span style=\"color: #008080; text-decoration-color: #008080\">             11339</span> │  │\n",
       "│ │ <span style=\"color: #af87ff; text-decoration-color: #af87ff\">implantation_station               </span> │ <span style=\"color: #008080; text-decoration-color: #008080\">     220</span> │ <span style=\"color: #008080; text-decoration-color: #008080\">     10.33</span> │ <span style=\"color: #008080; text-decoration-color: #008080\">                   0.92</span> │ <span style=\"color: #008080; text-decoration-color: #008080\">              1960</span> │  │\n",
       "│ │ <span style=\"color: #af87ff; text-decoration-color: #af87ff\">nbre_pdc                           </span> │ <span style=\"color: #008080; text-decoration-color: #008080\">     220</span> │ <span style=\"color: #008080; text-decoration-color: #008080\">     10.33</span> │ <span style=\"color: #008080; text-decoration-color: #008080\">                    0.9</span> │ <span style=\"color: #008080; text-decoration-color: #008080\">              1909</span> │  │\n",
       "│ │ <span style=\"color: #af87ff; text-decoration-color: #af87ff\">date_maj                           </span> │ <span style=\"color: #008080; text-decoration-color: #008080\">     220</span> │ <span style=\"color: #008080; text-decoration-color: #008080\">     10.33</span> │ <span style=\"color: #008080; text-decoration-color: #008080\">                    0.9</span> │ <span style=\"color: #008080; text-decoration-color: #008080\">              1909</span> │  │\n",
       "│ │ <span style=\"color: #af87ff; text-decoration-color: #af87ff\">condition_acces                    </span> │ <span style=\"color: #008080; text-decoration-color: #008080\">     220</span> │ <span style=\"color: #008080; text-decoration-color: #008080\">     10.33</span> │ <span style=\"color: #008080; text-decoration-color: #008080\">                    1.8</span> │ <span style=\"color: #008080; text-decoration-color: #008080\">              3818</span> │  │\n",
       "│ │ <span style=\"color: #af87ff; text-decoration-color: #af87ff\">gratuit                            </span> │ <span style=\"color: #008080; text-decoration-color: #008080\">     220</span> │ <span style=\"color: #008080; text-decoration-color: #008080\">     10.33</span> │ <span style=\"color: #008080; text-decoration-color: #008080\">                    0.9</span> │ <span style=\"color: #008080; text-decoration-color: #008080\">              1909</span> │  │\n",
       "│ │ <span style=\"color: #af87ff; text-decoration-color: #af87ff\">paiement_acte                      </span> │ <span style=\"color: #008080; text-decoration-color: #008080\">     220</span> │ <span style=\"color: #008080; text-decoration-color: #008080\">     10.33</span> │ <span style=\"color: #008080; text-decoration-color: #008080\">                    0.9</span> │ <span style=\"color: #008080; text-decoration-color: #008080\">              1909</span> │  │\n",
       "│ │ <span style=\"color: #af87ff; text-decoration-color: #af87ff\">paiement_cb                        </span> │ <span style=\"color: #008080; text-decoration-color: #008080\">     220</span> │ <span style=\"color: #008080; text-decoration-color: #008080\">     10.33</span> │ <span style=\"color: #008080; text-decoration-color: #008080\">                    0.9</span> │ <span style=\"color: #008080; text-decoration-color: #008080\">              1909</span> │  │\n",
       "│ │ <span style=\"color: #af87ff; text-decoration-color: #af87ff\">paiement_autre                     </span> │ <span style=\"color: #008080; text-decoration-color: #008080\">     220</span> │ <span style=\"color: #008080; text-decoration-color: #008080\">     10.33</span> │ <span style=\"color: #008080; text-decoration-color: #008080\">                    0.9</span> │ <span style=\"color: #008080; text-decoration-color: #008080\">              1909</span> │  │\n",
       "│ │ <span style=\"color: #af87ff; text-decoration-color: #af87ff\">reservation                        </span> │ <span style=\"color: #008080; text-decoration-color: #008080\">     220</span> │ <span style=\"color: #008080; text-decoration-color: #008080\">     10.33</span> │ <span style=\"color: #008080; text-decoration-color: #008080\">                    0.9</span> │ <span style=\"color: #008080; text-decoration-color: #008080\">              1909</span> │  │\n",
       "│ │ <span style=\"color: #af87ff; text-decoration-color: #af87ff\">siren_amenageur                    </span> │ <span style=\"color: #008080; text-decoration-color: #008080\">     220</span> │ <span style=\"color: #008080; text-decoration-color: #008080\">     10.33</span> │ <span style=\"color: #008080; text-decoration-color: #008080\">                    0.9</span> │ <span style=\"color: #008080; text-decoration-color: #008080\">              1909</span> │  │\n",
       "│ │ <span style=\"color: #af87ff; text-decoration-color: #af87ff\">contact_amenageur                  </span> │ <span style=\"color: #008080; text-decoration-color: #008080\">     220</span> │ <span style=\"color: #008080; text-decoration-color: #008080\">     10.33</span> │ <span style=\"color: #008080; text-decoration-color: #008080\">                    0.9</span> │ <span style=\"color: #008080; text-decoration-color: #008080\">              1909</span> │  │\n",
       "│ │ <span style=\"color: #af87ff; text-decoration-color: #af87ff\">nom_amenageur                      </span> │ <span style=\"color: #008080; text-decoration-color: #008080\">     220</span> │ <span style=\"color: #008080; text-decoration-color: #008080\">     10.33</span> │ <span style=\"color: #008080; text-decoration-color: #008080\">                    0.9</span> │ <span style=\"color: #008080; text-decoration-color: #008080\">              1909</span> │  │\n",
       "│ │ <span style=\"color: #af87ff; text-decoration-color: #af87ff\">nom_operateur                      </span> │ <span style=\"color: #008080; text-decoration-color: #008080\">     220</span> │ <span style=\"color: #008080; text-decoration-color: #008080\">     10.33</span> │ <span style=\"color: #008080; text-decoration-color: #008080\">                    0.9</span> │ <span style=\"color: #008080; text-decoration-color: #008080\">              1909</span> │  │\n",
       "│ │ <span style=\"color: #af87ff; text-decoration-color: #af87ff\">contact_operateur                  </span> │ <span style=\"color: #008080; text-decoration-color: #008080\">     220</span> │ <span style=\"color: #008080; text-decoration-color: #008080\">     10.33</span> │ <span style=\"color: #008080; text-decoration-color: #008080\">                    0.9</span> │ <span style=\"color: #008080; text-decoration-color: #008080\">              1909</span> │  │\n",
       "│ │ <span style=\"color: #af87ff; text-decoration-color: #af87ff\">telephone_operateur                </span> │ <span style=\"color: #008080; text-decoration-color: #008080\">     220</span> │ <span style=\"color: #008080; text-decoration-color: #008080\">     10.33</span> │ <span style=\"color: #008080; text-decoration-color: #008080\">                    4.5</span> │ <span style=\"color: #008080; text-decoration-color: #008080\">              9545</span> │  │\n",
       "│ │ <span style=\"color: #af87ff; text-decoration-color: #af87ff\">nom_enseigne                       </span> │ <span style=\"color: #008080; text-decoration-color: #008080\">     220</span> │ <span style=\"color: #008080; text-decoration-color: #008080\">     10.33</span> │ <span style=\"color: #008080; text-decoration-color: #008080\">                    0.9</span> │ <span style=\"color: #008080; text-decoration-color: #008080\">              1909</span> │  │\n",
       "│ │ <span style=\"color: #af87ff; text-decoration-color: #af87ff\">tarification                       </span> │ <span style=\"color: #008080; text-decoration-color: #008080\">     220</span> │ <span style=\"color: #008080; text-decoration-color: #008080\">     10.33</span> │ <span style=\"color: #008080; text-decoration-color: #008080\">                    0.9</span> │ <span style=\"color: #008080; text-decoration-color: #008080\">              1909</span> │  │\n",
       "│ │ <span style=\"color: #af87ff; text-decoration-color: #af87ff\">id_pdc_itinerance                  </span> │ <span style=\"color: #008080; text-decoration-color: #008080\">     220</span> │ <span style=\"color: #008080; text-decoration-color: #008080\">     10.33</span> │ <span style=\"color: #008080; text-decoration-color: #008080\">                    0.9</span> │ <span style=\"color: #008080; text-decoration-color: #008080\">              1909</span> │  │\n",
       "│ │ <span style=\"color: #af87ff; text-decoration-color: #af87ff\">date_mise_en_service               </span> │ <span style=\"color: #008080; text-decoration-color: #008080\">     220</span> │ <span style=\"color: #008080; text-decoration-color: #008080\">     10.33</span> │ <span style=\"color: #008080; text-decoration-color: #008080\">                    0.9</span> │ <span style=\"color: #008080; text-decoration-color: #008080\">              1909</span> │  │\n",
       "│ │ <span style=\"color: #af87ff; text-decoration-color: #af87ff\">accessibilite_pmr                  </span> │ <span style=\"color: #008080; text-decoration-color: #008080\">     220</span> │ <span style=\"color: #008080; text-decoration-color: #008080\">     10.33</span> │ <span style=\"color: #008080; text-decoration-color: #008080\">                    1.8</span> │ <span style=\"color: #008080; text-decoration-color: #008080\">              3863</span> │  │\n",
       "│ │ <span style=\"color: #af87ff; text-decoration-color: #af87ff\">restriction_gabarit                </span> │ <span style=\"color: #008080; text-decoration-color: #008080\">     220</span> │ <span style=\"color: #008080; text-decoration-color: #008080\">     10.33</span> │ <span style=\"color: #008080; text-decoration-color: #008080\">                    1.8</span> │ <span style=\"color: #008080; text-decoration-color: #008080\">              3899</span> │  │\n",
       "│ │ <span style=\"color: #af87ff; text-decoration-color: #af87ff\">station_deux_roues                 </span> │ <span style=\"color: #008080; text-decoration-color: #008080\">     220</span> │ <span style=\"color: #008080; text-decoration-color: #008080\">     10.33</span> │ <span style=\"color: #008080; text-decoration-color: #008080\">                    0.9</span> │ <span style=\"color: #008080; text-decoration-color: #008080\">              1909</span> │  │\n",
       "│ │ <span style=\"color: #af87ff; text-decoration-color: #af87ff\">puissance_nominale                 </span> │ <span style=\"color: #008080; text-decoration-color: #008080\">     220</span> │ <span style=\"color: #008080; text-decoration-color: #008080\">     10.33</span> │ <span style=\"color: #008080; text-decoration-color: #008080\">                    0.9</span> │ <span style=\"color: #008080; text-decoration-color: #008080\">              1909</span> │  │\n",
       "│ │ <span style=\"color: #af87ff; text-decoration-color: #af87ff\">prise_type_ef                      </span> │ <span style=\"color: #008080; text-decoration-color: #008080\">     220</span> │ <span style=\"color: #008080; text-decoration-color: #008080\">     10.33</span> │ <span style=\"color: #008080; text-decoration-color: #008080\">                    0.9</span> │ <span style=\"color: #008080; text-decoration-color: #008080\">              1909</span> │  │\n",
       "│ │ <span style=\"color: #af87ff; text-decoration-color: #af87ff\">prise_type_2                       </span> │ <span style=\"color: #008080; text-decoration-color: #008080\">     220</span> │ <span style=\"color: #008080; text-decoration-color: #008080\">     10.33</span> │ <span style=\"color: #008080; text-decoration-color: #008080\">                    0.9</span> │ <span style=\"color: #008080; text-decoration-color: #008080\">              1909</span> │  │\n",
       "│ │ <span style=\"color: #af87ff; text-decoration-color: #af87ff\">prise_type_combo_ccs               </span> │ <span style=\"color: #008080; text-decoration-color: #008080\">     220</span> │ <span style=\"color: #008080; text-decoration-color: #008080\">     10.33</span> │ <span style=\"color: #008080; text-decoration-color: #008080\">                    0.9</span> │ <span style=\"color: #008080; text-decoration-color: #008080\">              1909</span> │  │\n",
       "│ │ <span style=\"color: #af87ff; text-decoration-color: #af87ff\">prise_type_chademo                 </span> │ <span style=\"color: #008080; text-decoration-color: #008080\">     220</span> │ <span style=\"color: #008080; text-decoration-color: #008080\">     10.33</span> │ <span style=\"color: #008080; text-decoration-color: #008080\">                    0.9</span> │ <span style=\"color: #008080; text-decoration-color: #008080\">              1909</span> │  │\n",
       "│ │ <span style=\"color: #af87ff; text-decoration-color: #af87ff\">prise_type_autre                   </span> │ <span style=\"color: #008080; text-decoration-color: #008080\">     220</span> │ <span style=\"color: #008080; text-decoration-color: #008080\">     10.33</span> │ <span style=\"color: #008080; text-decoration-color: #008080\">                    0.9</span> │ <span style=\"color: #008080; text-decoration-color: #008080\">              1909</span> │  │\n",
       "│ │ <span style=\"color: #af87ff; text-decoration-color: #af87ff\">prise_type_3                       </span> │ <span style=\"color: #008080; text-decoration-color: #008080\">     220</span> │ <span style=\"color: #008080; text-decoration-color: #008080\">     10.33</span> │ <span style=\"color: #008080; text-decoration-color: #008080\">                    0.9</span> │ <span style=\"color: #008080; text-decoration-color: #008080\">              1909</span> │  │\n",
       "│ │ <span style=\"color: #af87ff; text-decoration-color: #af87ff\">num_pdl                            </span> │ <span style=\"color: #008080; text-decoration-color: #008080\">     220</span> │ <span style=\"color: #008080; text-decoration-color: #008080\">     10.33</span> │ <span style=\"color: #008080; text-decoration-color: #008080\">                   0.92</span> │ <span style=\"color: #008080; text-decoration-color: #008080\">              1954</span> │  │\n",
       "│ │ <span style=\"color: #af87ff; text-decoration-color: #af87ff\">horaires                           </span> │ <span style=\"color: #008080; text-decoration-color: #008080\">     220</span> │ <span style=\"color: #008080; text-decoration-color: #008080\">     10.33</span> │ <span style=\"color: #008080; text-decoration-color: #008080\">                    0.9</span> │ <span style=\"color: #008080; text-decoration-color: #008080\">              1909</span> │  │\n",
       "│ │ <span style=\"color: #af87ff; text-decoration-color: #af87ff\">raccordement                       </span> │ <span style=\"color: #008080; text-decoration-color: #008080\">     220</span> │ <span style=\"color: #008080; text-decoration-color: #008080\">     10.33</span> │ <span style=\"color: #008080; text-decoration-color: #008080\">                    0.9</span> │ <span style=\"color: #008080; text-decoration-color: #008080\">              1909</span> │  │\n",
       "│ └─────────────────────────────────────┴──────────┴────────────┴─────────────────────────┴────────────────────┘  │\n",
       "╰────────────────────────────────────────────────────── End ──────────────────────────────────────────────────────╯\n",
       "</pre>\n"
      ],
      "text/plain": [
       "╭──────────────────────────────────────────────── skimpy summary ─────────────────────────────────────────────────╮\n",
       "│ \u001b[3m         Data Summary         \u001b[0m \u001b[3m      Data Types       \u001b[0m                                                          │\n",
       "│ ┏━━━━━━━━━━━━━━━━━━━┳━━━━━━━━┓ ┏━━━━━━━━━━━━━┳━━━━━━━┓                                                          │\n",
       "│ ┃\u001b[1;36m \u001b[0m\u001b[1;36mdataframe        \u001b[0m\u001b[1;36m \u001b[0m┃\u001b[1;36m \u001b[0m\u001b[1;36mValues\u001b[0m\u001b[1;36m \u001b[0m┃ ┃\u001b[1;36m \u001b[0m\u001b[1;36mColumn Type\u001b[0m\u001b[1;36m \u001b[0m┃\u001b[1;36m \u001b[0m\u001b[1;36mCount\u001b[0m\u001b[1;36m \u001b[0m┃                                                          │\n",
       "│ ┡━━━━━━━━━━━━━━━━━━━╇━━━━━━━━┩ ┡━━━━━━━━━━━━━╇━━━━━━━┩                                                          │\n",
       "│ │ Number of rows    │ 2129   │ │ string      │ 43    │                                                          │\n",
       "│ │ Number of columns │ 43     │ └─────────────┴───────┘                                                          │\n",
       "│ └───────────────────┴────────┘                                                                                  │\n",
       "│ \u001b[3m                                                    string                                                    \u001b[0m  │\n",
       "│ ┏━━━━━━━━━━━━━━━━━━━━━━━━━━━━━━━━━━━━━┳━━━━━━━━━━┳━━━━━━━━━━━━┳━━━━━━━━━━━━━━━━━━━━━━━━━┳━━━━━━━━━━━━━━━━━━━━┓  │\n",
       "│ ┃\u001b[1m \u001b[0m\u001b[1mcolumn_name                        \u001b[0m\u001b[1m \u001b[0m┃\u001b[1m \u001b[0m\u001b[1mNA      \u001b[0m\u001b[1m \u001b[0m┃\u001b[1m \u001b[0m\u001b[1mNA %      \u001b[0m\u001b[1m \u001b[0m┃\u001b[1m \u001b[0m\u001b[1mwords per row          \u001b[0m\u001b[1m \u001b[0m┃\u001b[1m \u001b[0m\u001b[1mtotal words       \u001b[0m\u001b[1m \u001b[0m┃  │\n",
       "│ ┡━━━━━━━━━━━━━━━━━━━━━━━━━━━━━━━━━━━━━╇━━━━━━━━━━╇━━━━━━━━━━━━╇━━━━━━━━━━━━━━━━━━━━━━━━━╇━━━━━━━━━━━━━━━━━━━━┩  │\n",
       "│ │ \u001b[38;5;141mid_pdc                             \u001b[0m │ \u001b[36m    1909\u001b[0m │ \u001b[36m     89.67\u001b[0m │ \u001b[36m                    0.1\u001b[0m │ \u001b[36m               220\u001b[0m │  │\n",
       "│ │ \u001b[38;5;141mstatut_pdc                         \u001b[0m │ \u001b[36m       0\u001b[0m │ \u001b[36m         0\u001b[0m │ \u001b[36m                    1.9\u001b[0m │ \u001b[36m              4038\u001b[0m │  │\n",
       "│ │ \u001b[38;5;141murl_description_pdc                \u001b[0m │ \u001b[36m    1909\u001b[0m │ \u001b[36m     89.67\u001b[0m │ \u001b[36m                    0.1\u001b[0m │ \u001b[36m               220\u001b[0m │  │\n",
       "│ │ \u001b[38;5;141mlast_updated                       \u001b[0m │ \u001b[36m    1909\u001b[0m │ \u001b[36m     89.67\u001b[0m │ \u001b[36m                    0.1\u001b[0m │ \u001b[36m               220\u001b[0m │  │\n",
       "│ │ \u001b[38;5;141madresse_station                    \u001b[0m │ \u001b[36m       0\u001b[0m │ \u001b[36m         0\u001b[0m │ \u001b[36m                    5.8\u001b[0m │ \u001b[36m             12318\u001b[0m │  │\n",
       "│ │ \u001b[38;5;141mcode_insee_commune                 \u001b[0m │ \u001b[36m      15\u001b[0m │ \u001b[36m       0.7\u001b[0m │ \u001b[36m                   0.99\u001b[0m │ \u001b[36m              2114\u001b[0m │  │\n",
       "│ │ \u001b[38;5;141marrondissement                     \u001b[0m │ \u001b[36m       0\u001b[0m │ \u001b[36m         0\u001b[0m │ \u001b[36m                      2\u001b[0m │ \u001b[36m              4258\u001b[0m │  │\n",
       "│ │ \u001b[38;5;141mid_pdc_local                       \u001b[0m │ \u001b[36m     220\u001b[0m │ \u001b[36m     10.33\u001b[0m │ \u001b[36m                    0.9\u001b[0m │ \u001b[36m              1909\u001b[0m │  │\n",
       "│ │ \u001b[38;5;141mid_station_local                   \u001b[0m │ \u001b[36m     220\u001b[0m │ \u001b[36m     10.33\u001b[0m │ \u001b[36m                    0.9\u001b[0m │ \u001b[36m              1909\u001b[0m │  │\n",
       "│ │ \u001b[38;5;141mid_station_itinerance              \u001b[0m │ \u001b[36m     220\u001b[0m │ \u001b[36m     10.33\u001b[0m │ \u001b[36m                    0.9\u001b[0m │ \u001b[36m              1909\u001b[0m │  │\n",
       "│ │ \u001b[38;5;141mnom_station                        \u001b[0m │ \u001b[36m     220\u001b[0m │ \u001b[36m     10.33\u001b[0m │ \u001b[36m                    5.3\u001b[0m │ \u001b[36m             11339\u001b[0m │  │\n",
       "│ │ \u001b[38;5;141mimplantation_station               \u001b[0m │ \u001b[36m     220\u001b[0m │ \u001b[36m     10.33\u001b[0m │ \u001b[36m                   0.92\u001b[0m │ \u001b[36m              1960\u001b[0m │  │\n",
       "│ │ \u001b[38;5;141mnbre_pdc                           \u001b[0m │ \u001b[36m     220\u001b[0m │ \u001b[36m     10.33\u001b[0m │ \u001b[36m                    0.9\u001b[0m │ \u001b[36m              1909\u001b[0m │  │\n",
       "│ │ \u001b[38;5;141mdate_maj                           \u001b[0m │ \u001b[36m     220\u001b[0m │ \u001b[36m     10.33\u001b[0m │ \u001b[36m                    0.9\u001b[0m │ \u001b[36m              1909\u001b[0m │  │\n",
       "│ │ \u001b[38;5;141mcondition_acces                    \u001b[0m │ \u001b[36m     220\u001b[0m │ \u001b[36m     10.33\u001b[0m │ \u001b[36m                    1.8\u001b[0m │ \u001b[36m              3818\u001b[0m │  │\n",
       "│ │ \u001b[38;5;141mgratuit                            \u001b[0m │ \u001b[36m     220\u001b[0m │ \u001b[36m     10.33\u001b[0m │ \u001b[36m                    0.9\u001b[0m │ \u001b[36m              1909\u001b[0m │  │\n",
       "│ │ \u001b[38;5;141mpaiement_acte                      \u001b[0m │ \u001b[36m     220\u001b[0m │ \u001b[36m     10.33\u001b[0m │ \u001b[36m                    0.9\u001b[0m │ \u001b[36m              1909\u001b[0m │  │\n",
       "│ │ \u001b[38;5;141mpaiement_cb                        \u001b[0m │ \u001b[36m     220\u001b[0m │ \u001b[36m     10.33\u001b[0m │ \u001b[36m                    0.9\u001b[0m │ \u001b[36m              1909\u001b[0m │  │\n",
       "│ │ \u001b[38;5;141mpaiement_autre                     \u001b[0m │ \u001b[36m     220\u001b[0m │ \u001b[36m     10.33\u001b[0m │ \u001b[36m                    0.9\u001b[0m │ \u001b[36m              1909\u001b[0m │  │\n",
       "│ │ \u001b[38;5;141mreservation                        \u001b[0m │ \u001b[36m     220\u001b[0m │ \u001b[36m     10.33\u001b[0m │ \u001b[36m                    0.9\u001b[0m │ \u001b[36m              1909\u001b[0m │  │\n",
       "│ │ \u001b[38;5;141msiren_amenageur                    \u001b[0m │ \u001b[36m     220\u001b[0m │ \u001b[36m     10.33\u001b[0m │ \u001b[36m                    0.9\u001b[0m │ \u001b[36m              1909\u001b[0m │  │\n",
       "│ │ \u001b[38;5;141mcontact_amenageur                  \u001b[0m │ \u001b[36m     220\u001b[0m │ \u001b[36m     10.33\u001b[0m │ \u001b[36m                    0.9\u001b[0m │ \u001b[36m              1909\u001b[0m │  │\n",
       "│ │ \u001b[38;5;141mnom_amenageur                      \u001b[0m │ \u001b[36m     220\u001b[0m │ \u001b[36m     10.33\u001b[0m │ \u001b[36m                    0.9\u001b[0m │ \u001b[36m              1909\u001b[0m │  │\n",
       "│ │ \u001b[38;5;141mnom_operateur                      \u001b[0m │ \u001b[36m     220\u001b[0m │ \u001b[36m     10.33\u001b[0m │ \u001b[36m                    0.9\u001b[0m │ \u001b[36m              1909\u001b[0m │  │\n",
       "│ │ \u001b[38;5;141mcontact_operateur                  \u001b[0m │ \u001b[36m     220\u001b[0m │ \u001b[36m     10.33\u001b[0m │ \u001b[36m                    0.9\u001b[0m │ \u001b[36m              1909\u001b[0m │  │\n",
       "│ │ \u001b[38;5;141mtelephone_operateur                \u001b[0m │ \u001b[36m     220\u001b[0m │ \u001b[36m     10.33\u001b[0m │ \u001b[36m                    4.5\u001b[0m │ \u001b[36m              9545\u001b[0m │  │\n",
       "│ │ \u001b[38;5;141mnom_enseigne                       \u001b[0m │ \u001b[36m     220\u001b[0m │ \u001b[36m     10.33\u001b[0m │ \u001b[36m                    0.9\u001b[0m │ \u001b[36m              1909\u001b[0m │  │\n",
       "│ │ \u001b[38;5;141mtarification                       \u001b[0m │ \u001b[36m     220\u001b[0m │ \u001b[36m     10.33\u001b[0m │ \u001b[36m                    0.9\u001b[0m │ \u001b[36m              1909\u001b[0m │  │\n",
       "│ │ \u001b[38;5;141mid_pdc_itinerance                  \u001b[0m │ \u001b[36m     220\u001b[0m │ \u001b[36m     10.33\u001b[0m │ \u001b[36m                    0.9\u001b[0m │ \u001b[36m              1909\u001b[0m │  │\n",
       "│ │ \u001b[38;5;141mdate_mise_en_service               \u001b[0m │ \u001b[36m     220\u001b[0m │ \u001b[36m     10.33\u001b[0m │ \u001b[36m                    0.9\u001b[0m │ \u001b[36m              1909\u001b[0m │  │\n",
       "│ │ \u001b[38;5;141maccessibilite_pmr                  \u001b[0m │ \u001b[36m     220\u001b[0m │ \u001b[36m     10.33\u001b[0m │ \u001b[36m                    1.8\u001b[0m │ \u001b[36m              3863\u001b[0m │  │\n",
       "│ │ \u001b[38;5;141mrestriction_gabarit                \u001b[0m │ \u001b[36m     220\u001b[0m │ \u001b[36m     10.33\u001b[0m │ \u001b[36m                    1.8\u001b[0m │ \u001b[36m              3899\u001b[0m │  │\n",
       "│ │ \u001b[38;5;141mstation_deux_roues                 \u001b[0m │ \u001b[36m     220\u001b[0m │ \u001b[36m     10.33\u001b[0m │ \u001b[36m                    0.9\u001b[0m │ \u001b[36m              1909\u001b[0m │  │\n",
       "│ │ \u001b[38;5;141mpuissance_nominale                 \u001b[0m │ \u001b[36m     220\u001b[0m │ \u001b[36m     10.33\u001b[0m │ \u001b[36m                    0.9\u001b[0m │ \u001b[36m              1909\u001b[0m │  │\n",
       "│ │ \u001b[38;5;141mprise_type_ef                      \u001b[0m │ \u001b[36m     220\u001b[0m │ \u001b[36m     10.33\u001b[0m │ \u001b[36m                    0.9\u001b[0m │ \u001b[36m              1909\u001b[0m │  │\n",
       "│ │ \u001b[38;5;141mprise_type_2                       \u001b[0m │ \u001b[36m     220\u001b[0m │ \u001b[36m     10.33\u001b[0m │ \u001b[36m                    0.9\u001b[0m │ \u001b[36m              1909\u001b[0m │  │\n",
       "│ │ \u001b[38;5;141mprise_type_combo_ccs               \u001b[0m │ \u001b[36m     220\u001b[0m │ \u001b[36m     10.33\u001b[0m │ \u001b[36m                    0.9\u001b[0m │ \u001b[36m              1909\u001b[0m │  │\n",
       "│ │ \u001b[38;5;141mprise_type_chademo                 \u001b[0m │ \u001b[36m     220\u001b[0m │ \u001b[36m     10.33\u001b[0m │ \u001b[36m                    0.9\u001b[0m │ \u001b[36m              1909\u001b[0m │  │\n",
       "│ │ \u001b[38;5;141mprise_type_autre                   \u001b[0m │ \u001b[36m     220\u001b[0m │ \u001b[36m     10.33\u001b[0m │ \u001b[36m                    0.9\u001b[0m │ \u001b[36m              1909\u001b[0m │  │\n",
       "│ │ \u001b[38;5;141mprise_type_3                       \u001b[0m │ \u001b[36m     220\u001b[0m │ \u001b[36m     10.33\u001b[0m │ \u001b[36m                    0.9\u001b[0m │ \u001b[36m              1909\u001b[0m │  │\n",
       "│ │ \u001b[38;5;141mnum_pdl                            \u001b[0m │ \u001b[36m     220\u001b[0m │ \u001b[36m     10.33\u001b[0m │ \u001b[36m                   0.92\u001b[0m │ \u001b[36m              1954\u001b[0m │  │\n",
       "│ │ \u001b[38;5;141mhoraires                           \u001b[0m │ \u001b[36m     220\u001b[0m │ \u001b[36m     10.33\u001b[0m │ \u001b[36m                    0.9\u001b[0m │ \u001b[36m              1909\u001b[0m │  │\n",
       "│ │ \u001b[38;5;141mraccordement                       \u001b[0m │ \u001b[36m     220\u001b[0m │ \u001b[36m     10.33\u001b[0m │ \u001b[36m                    0.9\u001b[0m │ \u001b[36m              1909\u001b[0m │  │\n",
       "│ └─────────────────────────────────────┴──────────┴────────────┴─────────────────────────┴────────────────────┘  │\n",
       "╰────────────────────────────────────────────────────── End ──────────────────────────────────────────────────────╯\n"
      ]
     },
     "metadata": {},
     "output_type": "display_data"
    }
   ],
   "source": [
    "from skimpy import skim\n",
    "skim(df)"
   ]
  }
 ],
 "metadata": {
  "kernelspec": {
   "display_name": "Python 3 (ipykernel)",
   "language": "python",
   "name": "python3"
  },
  "language_info": {
   "codemirror_mode": {
    "name": "ipython",
    "version": 3
   },
   "file_extension": ".py",
   "mimetype": "text/x-python",
   "name": "python",
   "nbconvert_exporter": "python",
   "pygments_lexer": "ipython3",
   "version": "3.9.19"
  }
 },
 "nbformat": 4,
 "nbformat_minor": 4
}
